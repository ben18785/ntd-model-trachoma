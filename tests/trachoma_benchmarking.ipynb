{
 "cells": [
  {
   "cell_type": "markdown",
   "metadata": {},
   "source": [
    "# Testing of Trachoma Simulation Python Module"
   ]
  },
  {
   "cell_type": "markdown",
   "metadata": {},
   "source": [
    "Import `numpy`, `pandas` and `matplotlib`. Note that `matplotlib` is not needed for running the simulations, it is only used for plotting the results."
   ]
  },
  {
   "cell_type": "code",
   "execution_count": 1,
   "metadata": {},
   "outputs": [],
   "source": [
    "import os\n",
    "os.chdir(\"..\")\n",
    "import numpy as np\n",
    "import pandas as pd\n",
    "import matplotlib.pyplot as plt\n",
    "\n",
    "%matplotlib inline\n",
    "plt.rcParams['figure.figsize'] = [12, 6]"
   ]
  },
  {
   "cell_type": "markdown",
   "metadata": {},
   "source": [
    "Import the `Trachoma_Simulation()` function from the `trachoma_simulations` module in the `trachoma package`."
   ]
  },
  {
   "cell_type": "code",
   "execution_count": 2,
   "metadata": {},
   "outputs": [],
   "source": [
    "from trachoma.trachoma_simulations import Trachoma_Simulation"
   ]
  },
  {
   "cell_type": "markdown",
   "metadata": {},
   "source": [
    "The inputs of the `Trachoma_Simulation()` function are the following:"
   ]
  },
  {
   "cell_type": "markdown",
   "metadata": {},
   "source": [
    "\n",
    "    BetFilePath: str\n",
    "        This is the path to the input CSV file with the\n",
    "        random seed and beta to be used for each simulation.\n",
    "\n",
    "    MDAFilePath: str\n",
    "        This is the path to the input CSV file with the\n",
    "        first and last year of the simulations and with\n",
    "        the first and last year of MDA.\n",
    "\n",
    "    PrevFilePath: str\n",
    "        This is the path where the output CSV file with\n",
    "        the simulated prevalence will be saved.\n",
    "\n",
    "    SaveOutput: bool\n",
    "        If True, the last state of the simulations will\n",
    "        be saved in a pickle file. If False, the last\n",
    "        state of the simulations will not be saved.\n",
    "\n",
    "    OutSimFilePath: str\n",
    "        This is the path where the output pickle file with\n",
    "        the last state of the simulations will be saved. It\n",
    "        is only required when SaveOutput = True.\n",
    "\n",
    "    InSimFilePath: str\n",
    "        This is the path where the input pickle file with\n",
    "        the last state of the simulations has been saved.\n",
    "        If this is provided, the code will skip the burnin\n",
    "        and resume the simulations from this state. If this\n",
    "        is not provided, the code will start the simulations\n",
    "        from scratch, including the burnin.\n",
    "        "
   ]
  },
  {
   "cell_type": "markdown",
   "metadata": {},
   "source": [
    "The `Trachoma_Simulation()` function saves the output CSV file with the simulated prevalence (and, if required, the output pickle file with the final state of the simulations) in the specified paths. Apart from that, the `Trachoma_Simulation()` function does not return any objects."
   ]
  },
  {
   "cell_type": "markdown",
   "metadata": {},
   "source": [
    "## Scenario 1"
   ]
  },
  {
   "cell_type": "markdown",
   "metadata": {},
   "source": [
    "The simulations start in 2014 and end in 2020, while the MDA starts in 2015 and ends in 2019."
   ]
  },
  {
   "cell_type": "code",
   "execution_count": 3,
   "metadata": {},
   "outputs": [],
   "source": [
    "BetFilePath = 'files/InputBet_single_sim.csv'  \n",
    "MDAFilePath = 'files/InputMDA_scen1.csv' \n",
    "PrevFilePath = 'files/OutputPrev_scena1.csv'\n",
    "InfectFilePath = 'files/Infect.csv'\n",
    "\n",
    "def sim_test():\n",
    "    Trachoma_Simulation(BetFilePath=BetFilePath,\n",
    "                    MDAFilePath=MDAFilePath,\n",
    "                    PrevFilePath=PrevFilePath,\n",
    "                    SaveOutput=False,\n",
    "                    OutSimFilePath=None,\n",
    "                    InSimFilePath=None,\n",
    "                    InfectFilePath=InfectFilePath)"
   ]
  },
  {
   "cell_type": "code",
   "execution_count": 7,
   "metadata": {},
   "outputs": [
    {
     "name": "stdout",
     "output_type": "stream",
     "text": [
      "-> Running 'Trachoma_Simulation', starting at 2021-07-28 09:16:21.843224\n",
      "mda_times: 2133 2185\n",
      "Running time: 1 seconds.\n",
      "=> Finished 'Trachoma_Simulation' in 1.1546 secs\n",
      "\n",
      "\n",
      "-> Running 'Trachoma_Simulation', starting at 2021-07-28 09:16:22.997872\n",
      "mda_times: 2133 2185\n",
      "Running time: 1 seconds.\n",
      "=> Finished 'Trachoma_Simulation' in 1.1281 secs\n",
      "\n",
      "\n",
      "-> Running 'Trachoma_Simulation', starting at 2021-07-28 09:16:24.125977\n",
      "mda_times: 2133 2185\n",
      "Running time: 1 seconds.\n",
      "=> Finished 'Trachoma_Simulation' in 1.1706 secs\n",
      "\n",
      "\n",
      "-> Running 'Trachoma_Simulation', starting at 2021-07-28 09:16:25.296559\n",
      "mda_times: 2133 2185\n",
      "Running time: 1 seconds.\n",
      "=> Finished 'Trachoma_Simulation' in 1.1784 secs\n",
      "\n",
      "\n",
      "-> Running 'Trachoma_Simulation', starting at 2021-07-28 09:16:26.475021\n",
      "mda_times: 2133 2185\n",
      "Running time: 1 seconds.\n",
      "=> Finished 'Trachoma_Simulation' in 1.1926 secs\n",
      "\n",
      "\n",
      "-> Running 'Trachoma_Simulation', starting at 2021-07-28 09:16:27.667642\n",
      "mda_times: 2133 2185\n",
      "Running time: 1 seconds.\n",
      "=> Finished 'Trachoma_Simulation' in 1.1744 secs\n",
      "\n",
      "\n",
      "-> Running 'Trachoma_Simulation', starting at 2021-07-28 09:16:28.842048\n",
      "mda_times: 2133 2185\n",
      "Running time: 1 seconds.\n",
      "=> Finished 'Trachoma_Simulation' in 1.1937 secs\n",
      "\n",
      "\n",
      "-> Running 'Trachoma_Simulation', starting at 2021-07-28 09:16:30.035833\n",
      "mda_times: 2133 2185\n",
      "Running time: 1 seconds.\n",
      "=> Finished 'Trachoma_Simulation' in 1.2303 secs\n",
      "\n",
      "\n",
      "-> Running 'Trachoma_Simulation', starting at 2021-07-28 09:16:31.266165\n",
      "mda_times: 2133 2185\n",
      "Running time: 1 seconds.\n",
      "=> Finished 'Trachoma_Simulation' in 1.2052 secs\n",
      "\n",
      "\n",
      "-> Running 'Trachoma_Simulation', starting at 2021-07-28 09:16:32.471399\n",
      "mda_times: 2133 2185\n",
      "Running time: 1 seconds.\n",
      "=> Finished 'Trachoma_Simulation' in 1.2324 secs\n",
      "\n",
      "\n",
      "-> Running 'Trachoma_Simulation', starting at 2021-07-28 09:16:33.703791\n",
      "mda_times: 2133 2185\n",
      "Running time: 1 seconds.\n",
      "=> Finished 'Trachoma_Simulation' in 1.1537 secs\n",
      "\n",
      "\n",
      "-> Running 'Trachoma_Simulation', starting at 2021-07-28 09:16:34.857508\n",
      "mda_times: 2133 2185\n",
      "Running time: 1 seconds.\n",
      "=> Finished 'Trachoma_Simulation' in 1.1621 secs\n",
      "\n",
      "\n",
      "-> Running 'Trachoma_Simulation', starting at 2021-07-28 09:16:36.019661\n",
      "mda_times: 2133 2185\n",
      "Running time: 1 seconds.\n",
      "=> Finished 'Trachoma_Simulation' in 1.1508 secs\n",
      "\n",
      "\n",
      "-> Running 'Trachoma_Simulation', starting at 2021-07-28 09:16:37.170505\n",
      "mda_times: 2133 2185\n",
      "Running time: 1 seconds.\n",
      "=> Finished 'Trachoma_Simulation' in 1.1540 secs\n",
      "\n",
      "\n",
      "-> Running 'Trachoma_Simulation', starting at 2021-07-28 09:16:38.324479\n",
      "mda_times: 2133 2185\n",
      "Running time: 1 seconds.\n",
      "=> Finished 'Trachoma_Simulation' in 1.1662 secs\n",
      "\n",
      "\n",
      "-> Running 'Trachoma_Simulation', starting at 2021-07-28 09:16:39.490737\n",
      "mda_times: 2133 2185\n",
      "Running time: 1 seconds.\n",
      "=> Finished 'Trachoma_Simulation' in 1.2684 secs\n",
      "\n",
      "\n",
      "-> Running 'Trachoma_Simulation', starting at 2021-07-28 09:16:40.759125\n",
      "mda_times: 2133 2185\n",
      "Running time: 1 seconds.\n",
      "=> Finished 'Trachoma_Simulation' in 1.1846 secs\n",
      "\n",
      "\n",
      "-> Running 'Trachoma_Simulation', starting at 2021-07-28 09:16:41.943710\n",
      "mda_times: 2133 2185\n",
      "Running time: 1 seconds.\n",
      "=> Finished 'Trachoma_Simulation' in 1.1689 secs\n",
      "\n",
      "\n",
      "-> Running 'Trachoma_Simulation', starting at 2021-07-28 09:16:43.112621\n",
      "mda_times: 2133 2185\n",
      "Running time: 1 seconds.\n",
      "=> Finished 'Trachoma_Simulation' in 1.1728 secs\n",
      "\n",
      "\n",
      "-> Running 'Trachoma_Simulation', starting at 2021-07-28 09:16:44.285461\n",
      "mda_times: 2133 2185\n",
      "Running time: 1 seconds.\n",
      "=> Finished 'Trachoma_Simulation' in 1.1774 secs\n",
      "\n",
      "\n"
     ]
    }
   ],
   "source": [
    "import time\n",
    "nreps = 20\n",
    "\n",
    "old = []\n",
    "for i in range(nreps):\n",
    "    start = time.time()\n",
    "    sim_test()\n",
    "    stop = time.time()\n",
    "    time_spent = stop - start\n",
    "    old.append(time_spent)"
   ]
  },
  {
   "cell_type": "code",
   "execution_count": 9,
   "metadata": {},
   "outputs": [
    {
     "data": {
      "text/plain": [
       "1.1809803605079652"
      ]
     },
     "execution_count": 9,
     "metadata": {},
     "output_type": "execute_result"
    }
   ],
   "source": [
    "np.mean(old)"
   ]
  },
  {
   "cell_type": "code",
   "execution_count": 12,
   "metadata": {},
   "outputs": [
    {
     "data": {
      "text/plain": [
       "1.1389045119285583"
      ]
     },
     "execution_count": 12,
     "metadata": {},
     "output_type": "execute_result"
    }
   ],
   "source": [
    "np.quantile(old, 0.025)"
   ]
  },
  {
   "cell_type": "code",
   "execution_count": 13,
   "metadata": {},
   "outputs": [
    {
     "data": {
      "text/plain": [
       "1.2512892603874206"
      ]
     },
     "execution_count": 13,
     "metadata": {},
     "output_type": "execute_result"
    }
   ],
   "source": [
    "np.quantile(old, 0.975)"
   ]
  },
  {
   "cell_type": "code",
   "execution_count": null,
   "metadata": {},
   "outputs": [],
   "source": []
  }
 ],
 "metadata": {
  "kernelspec": {
   "display_name": "Python 3",
   "language": "python",
   "name": "python3"
  },
  "language_info": {
   "codemirror_mode": {
    "name": "ipython",
    "version": 3
   },
   "file_extension": ".py",
   "mimetype": "text/x-python",
   "name": "python",
   "nbconvert_exporter": "python",
   "pygments_lexer": "ipython3",
   "version": "3.9.2"
  }
 },
 "nbformat": 4,
 "nbformat_minor": 4
}
